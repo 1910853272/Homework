{
 "cells": [
  {
   "cell_type": "code",
   "execution_count": 206,
   "metadata": {},
   "outputs": [],
   "source": [
    "import numpy as np\n",
    "import torch\n",
    "import torch.nn as nn\n",
    "from torch.utils.data import DataLoader"
   ]
  },
  {
   "cell_type": "markdown",
   "metadata": {},
   "source": [
    "# 加载数据集\n"
   ]
  },
  {
   "cell_type": "code",
   "execution_count": 207,
   "metadata": {},
   "outputs": [],
   "source": [
    "def prepareData():\n",
    "    \n",
    "    # 读入预处理的数据\n",
    "    datas = np.load(\"tang.npz\", allow_pickle=True)\n",
    "    data = datas['data']\n",
    "    ix2word = datas['ix2word'].item()\n",
    "    word2ix = datas['word2ix'].item()\n",
    "    \n",
    "    # 转为torch.Tensor\n",
    "    data = torch.from_numpy(data)\n",
    "    dataloader = DataLoader(data,\n",
    "                         batch_size = 32,\n",
    "                         shuffle = True,\n",
    "                         num_workers = 0)\n",
    "    \n",
    "    return dataloader, ix2word, word2ix"
   ]
  },
  {
   "cell_type": "code",
   "execution_count": 208,
   "metadata": {},
   "outputs": [],
   "source": [
    "dataloader, ix2word, word2ix = prepareData()"
   ]
  },
  {
   "cell_type": "markdown",
   "metadata": {},
   "source": [
    "# 构建模型\n",
    "\n",
    "模型包括Embedding层、LSTM层和输出层。"
   ]
  },
  {
   "cell_type": "code",
   "execution_count": 216,
   "metadata": {},
   "outputs": [],
   "source": [
    "class PoetryModel(nn.Module):\n",
    "    def __init__(self, vocab_size, embedding_dim, hidden_dim):\n",
    "        super(PoetryModel, self).__init__()\n",
    "        self.hidden_dim = hidden_dim\n",
    "        self.embedding = nn.Embedding(vocab_size, embedding_dim)\n",
    "        self.lstm = nn.LSTM(embedding_dim, self.hidden_dim, num_layers=2)\n",
    "        self.linear = nn.Linear(self.hidden_dim, vocab_size)\n",
    "\n",
    "    def forward(self, input, hidden = None):\n",
    "        seq_len, batch_size = input.size()\n",
    "        \n",
    "        if hidden is None:\n",
    "            h_0 = input.data.new(2, batch_size, self.hidden_dim).fill_(0).float()\n",
    "            c_0 = input.data.new(2, batch_size, self.hidden_dim).fill_(0).float()\n",
    "        else:\n",
    "            h_0, c_0 = hidden\n",
    "\n",
    "        embeds = self.embedding(input)\n",
    "        output, hidden = self.lstm(embeds, (h_0, c_0))\n",
    "        output = self.linear(output.view(seq_len * batch_size, -1))\n",
    "        return output, hidden"
   ]
  },
  {
   "cell_type": "markdown",
   "metadata": {},
   "source": [
    "# 训练模型"
   ]
  },
  {
   "cell_type": "code",
   "execution_count": 217,
   "metadata": {},
   "outputs": [],
   "source": [
    "# 设置超参数\n",
    "learning_rate = 5e-3       # 学习率\n",
    "embedding_dim = 128        # 嵌入层维度\n",
    "hidden_dim = 256           # 隐藏层维度\n",
    "model_path = None          # 预训练模型路径\n",
    "epochs = 4                 # 训练轮数\n",
    "verbose = True             # 打印训练过程\n",
    "device = torch.device('cuda:0' if torch.cuda.is_available() else 'cpu')"
   ]
  },
  {
   "cell_type": "code",
   "execution_count": 218,
   "metadata": {},
   "outputs": [],
   "source": [
    "def train(dataloader, ix2word, word2ix):\n",
    "    model = PoetryModel(len(word2ix), embedding_dim, hidden_dim)\n",
    "    if model_path:\n",
    "        model.load_state_dict(torch.load(model_path))\n",
    "    model.to(device)\n",
    "    model.train()\n",
    "\n",
    "    optimizer = torch.optim.Adam(model.parameters(), lr=learning_rate)\n",
    "    criterion = nn.CrossEntropyLoss()\n",
    "\n",
    "    loss_list = []\n",
    "    batch_count = 0\n",
    "\n",
    "    for epoch in range(epochs):\n",
    "        for batch_idx, data in enumerate(dataloader):\n",
    "            data = data.long().transpose(1, 0).contiguous().to(device)\n",
    "            input, target = data[:-1, :], data[1:, :]\n",
    "\n",
    "            output, _ = model(input)\n",
    "            output = output.view(-1, output.size(-1))  # flatten logits\n",
    "            target = target.contiguous().view(-1)      # flatten labels\n",
    "\n",
    "            loss = criterion(output, target)\n",
    "\n",
    "            optimizer.zero_grad()\n",
    "            loss.backward()\n",
    "            optimizer.step()\n",
    "\n",
    "            loss_list.append(loss.item())\n",
    "            batch_count += 1\n",
    "\n",
    "            if batch_idx % 900 == 0 and verbose:\n",
    "                print('Train Epoch: {} [{}/{} ({:.0f}%)]\\tLoss: {:.6f}'.format(\n",
    "                    epoch+1, batch_idx * len(data[1]), len(dataloader.dataset),\n",
    "                    100. * batch_idx / len(dataloader), loss.item()))\n",
    "\n",
    "    torch.save(model.state_dict(), 'model.pth')\n",
    "\n",
    "    # 绘制 loss 曲线\n",
    "    plt.figure(figsize=(10, 5))\n",
    "    plt.plot(loss_list, label='Training Loss')\n",
    "    plt.xlabel('Batch')\n",
    "    plt.ylabel('Loss')\n",
    "    plt.title('Training Loss Curve')\n",
    "    plt.legend()\n",
    "    plt.grid(True)\n",
    "    plt.tight_layout()\n",
    "    plt.savefig('loss_curve.png')\n",
    "    plt.show()\n"
   ]
  },
  {
   "cell_type": "code",
   "execution_count": 219,
   "metadata": {},
   "outputs": [
    {
     "name": "stdout",
     "output_type": "stream",
     "text": [
      "Train Epoch: 1 [0/57580 (0%)]\tLoss: 8.992303\n",
      "Train Epoch: 1 [28800/57580 (50%)]\tLoss: 2.669371\n",
      "Train Epoch: 2 [0/57580 (0%)]\tLoss: 2.288157\n",
      "Train Epoch: 2 [28800/57580 (50%)]\tLoss: 1.862764\n",
      "Train Epoch: 3 [0/57580 (0%)]\tLoss: 2.022201\n",
      "Train Epoch: 3 [28800/57580 (50%)]\tLoss: 2.178975\n",
      "Train Epoch: 4 [0/57580 (0%)]\tLoss: 2.164243\n",
      "Train Epoch: 4 [28800/57580 (50%)]\tLoss: 2.214765\n"
     ]
    },
    {
     "data": {
      "image/png": "[encoded data removed]",
      "text/plain": [
       "<Figure size 1000x500 with 1 Axes>"
      ]
     },
     "metadata": {},
     "output_type": "display_data"
    }
   ],
   "source": [
    "train(dataloader, ix2word, word2ix)"
   ]
  },
  {
   "cell_type": "markdown",
   "metadata": {},
   "source": [
    "# 生成唐诗\n",
    "\n",
    "给定几个词，根据这几个词接着生成一首完整的唐诗。"
   ]
  },
  {
   "cell_type": "code",
   "execution_count": 220,
   "metadata": {},
   "outputs": [],
   "source": [
    "# 设置超参数\n",
    "model_path = 'model.pth'        # 模型路径\n",
    "start_words = '湖光秋月两相和'  # 唐诗的第一句\n",
    "max_gen_len = 125                # 生成唐诗的最长长度"
   ]
  },
  {
   "cell_type": "code",
   "execution_count": 221,
   "metadata": {},
   "outputs": [],
   "source": [
    "def generate_tang(start_words, ix2word, word2ix):\n",
    "\n",
    "    # 读取模型\n",
    "    model = PoetryModel(len(word2ix), embedding_dim, hidden_dim)\n",
    "    model.load_state_dict(torch.load(model_path))\n",
    "    model.to(device)\n",
    "    \n",
    "    # 读取唐诗的第一句\n",
    "    results = list(start_words)\n",
    "    start_word_len = len(start_words)\n",
    "    \n",
    "    # 设置第一个词为<START>\n",
    "    input = torch.Tensor([word2ix['<START>']]).view(1, 1).long()\n",
    "    input = input.to(device)\n",
    "    hidden = None\n",
    "\n",
    "    # 生成唐诗\n",
    "    for i in range(max_gen_len):\n",
    "        output, hidden = model(input, hidden)\n",
    "        # 读取第一句\n",
    "        if i < start_word_len:\n",
    "            w = results[i]\n",
    "            input = input.data.new([word2ix[w]]).view(1, 1)\n",
    "        # 生成后面的句子\n",
    "        else:\n",
    "            top_index = output.data[0].topk(1)[1][0].item()\n",
    "            w = ix2word[top_index]\n",
    "            results.append(w)\n",
    "            input = input.data.new([top_index]).view(1, 1)\n",
    "        # 结束标志\n",
    "        if w == '<EOP>':\n",
    "            del results[-1]\n",
    "            break\n",
    "            \n",
    "    return results"
   ]
  },
  {
   "cell_type": "code",
   "execution_count": 222,
   "metadata": {},
   "outputs": [
    {
     "name": "stdout",
     "output_type": "stream",
     "text": [
      "湖光秋月两相和，\n",
      "一声一声秋草绿。\n",
      "一声声断秋风起，\n",
      "夜夜夜啼秋月明。\n",
      "君不见君王不见，\n",
      "君不见君王不可。\n",
      "见一声一声不可，\n",
      "见一声声急无人。\n",
      "语君不见君王不，\n",
      "知不知不知不得。\n",
      "知一朝不见长安，\n",
      "道一笑不知何所。\n",
      "之君不见君王不，\n",
      "见不知不知不得。\n"
     ]
    },
    {
     "name": "stderr",
     "output_type": "stream",
     "text": [
      "C:\\Users\\19108\\AppData\\Local\\Temp\\ipykernel_13772\\254178465.py:5: FutureWarning: You are using `torch.load` with `weights_only=False` (the current default value), which uses the default pickle module implicitly. It is possible to construct malicious pickle data which will execute arbitrary code during unpickling (See https://github.com/pytorch/pytorch/blob/main/SECURITY.md#untrusted-models for more details). In a future release, the default value for `weights_only` will be flipped to `True`. This limits the functions that could be executed during unpickling. Arbitrary objects will no longer be allowed to be loaded via this mode unless they are explicitly allowlisted by the user via `torch.serialization.add_safe_globals`. We recommend you start setting `weights_only=True` for any use case where you don't have full control of the loaded file. Please open an issue on GitHub for any issues related to this experimental feature.\n",
      "  model.load_state_dict(torch.load(model_path))\n"
     ]
    }
   ],
   "source": [
    "results = generate_tang(start_words, ix2word, word2ix)\n",
    "\n",
    "def format_to_qijue_poem(char_list):\n",
    "    # 过滤掉标点符号，以保证每句刚好7个字\n",
    "    filtered_chars = [char for char in char_list if char not in {'，', '。'}]\n",
    "\n",
    "    # 将字每7个一组\n",
    "    lines = [''.join(filtered_chars[i:i+7]) for i in range(0, len(filtered_chars), 7)]\n",
    "\n",
    "    # 添加标点：逢偶数句加“。”，奇数句加“，”\n",
    "    formatted_poem = []\n",
    "    for i, line in enumerate(lines):\n",
    "        if len(line) < 7:\n",
    "            continue  # 丢弃不完整句\n",
    "        punctuation = '，' if i % 2 == 0 else '。'\n",
    "        formatted_poem.append(line + punctuation)\n",
    "\n",
    "    return '\\n'.join(formatted_poem)\n",
    "\n",
    "print(format_to_qijue_poem(results))"
   ]
  },
  {
   "cell_type": "markdown",
   "metadata": {},
   "source": [
    "# 生成藏头诗\n",
    "\n"
   ]
  },
  {
   "cell_type": "code",
   "execution_count": 223,
   "metadata": {},
   "outputs": [],
   "source": [
    "# 设置超参数\n",
    "model_path = 'model.pth'                 # 模型路径\n",
    "start_words_acrostic = '湖光秋月两相和'  # 唐诗的“头”\n",
    "max_gen_len_acrostic = 125               # 生成唐诗的最长长度"
   ]
  },
  {
   "cell_type": "code",
   "execution_count": 224,
   "metadata": {},
   "outputs": [],
   "source": [
    "def generate_cang(start_words, ix2word, word2ix):\n",
    "\n",
    "    # 读取模型\n",
    "    model = PoetryModel(len(word2ix), embedding_dim, hidden_dim)\n",
    "    model.load_state_dict(torch.load(model_path))\n",
    "    model.to(device)\n",
    "    \n",
    "    # 读取唐诗的“头”\n",
    "    results = []\n",
    "    start_word_len = len(start_words)\n",
    "    \n",
    "    # 设置第一个词为<START>\n",
    "    input = (torch.Tensor([word2ix['<START>']]).view(1, 1).long())\n",
    "    input = input.to(device)\n",
    "    hidden = None\n",
    "\n",
    "    index = 0            # 指示已生成了多少句\n",
    "    pre_word = '<START>' # 上一个词\n",
    "\n",
    "    # 生成藏头诗\n",
    "    for i in range(max_gen_len_acrostic):\n",
    "        output, hidden = model(input, hidden)\n",
    "        top_index = output.data[0].topk(1)[1][0].item()\n",
    "        w = ix2word[top_index]\n",
    "\n",
    "        # 如果遇到标志一句的结尾，喂入下一个“头”\n",
    "        if (pre_word in {u'。', u'！', '<START>'}):\n",
    "            # 如果生成的诗已经包含全部“头”，则结束\n",
    "            if index == start_word_len:\n",
    "                break\n",
    "            # 把“头”作为输入喂入模型\n",
    "            else:\n",
    "                w = start_words[index]\n",
    "                index += 1\n",
    "                input = (input.data.new([word2ix[w]])).view(1, 1)\n",
    "                \n",
    "        # 否则，把上一次预测作为下一个词输入\n",
    "        else:\n",
    "            input = (input.data.new([word2ix[w]])).view(1, 1)\n",
    "        results.append(w)\n",
    "        pre_word = w\n",
    "        \n",
    "    return results"
   ]
  },
  {
   "cell_type": "code",
   "execution_count": 225,
   "metadata": {},
   "outputs": [
    {
     "name": "stdout",
     "output_type": "stream",
     "text": [
      "湖上春风起，\n",
      "光风吹落晖。\n",
      "秋辉如有意，\n",
      "月景亦无穷。\n",
      "两草生寒色，\n",
      "相风动夕阳。\n",
      "和明春草绿，\n"
     ]
    },
    {
     "name": "stderr",
     "output_type": "stream",
     "text": [
      "C:\\Users\\19108\\AppData\\Local\\Temp\\ipykernel_13772\\678109101.py:5: FutureWarning: You are using `torch.load` with `weights_only=False` (the current default value), which uses the default pickle module implicitly. It is possible to construct malicious pickle data which will execute arbitrary code during unpickling (See https://github.com/pytorch/pytorch/blob/main/SECURITY.md#untrusted-models for more details). In a future release, the default value for `weights_only` will be flipped to `True`. This limits the functions that could be executed during unpickling. Arbitrary objects will no longer be allowed to be loaded via this mode unless they are explicitly allowlisted by the user via `torch.serialization.add_safe_globals`. We recommend you start setting `weights_only=True` for any use case where you don't have full control of the loaded file. Please open an issue on GitHub for any issues related to this experimental feature.\n",
      "  model.load_state_dict(torch.load(model_path))\n"
     ]
    }
   ],
   "source": [
    "results_acrostic = generate_cang(start_words_acrostic, ix2word, word2ix)\n",
    "def format_cangtou_poem(results, start_words):\n",
    "    sentences = []\n",
    "    sentence = []\n",
    "\n",
    "    # 分句（遇到“，”或“。”就切句）\n",
    "    for word in results:\n",
    "        sentence.append(word)\n",
    "        if word in {'，', '。'}:\n",
    "            sentences.append(''.join(sentence))\n",
    "            sentence = []\n",
    "\n",
    "    # 校验\n",
    "    if len(sentences) < len(start_words):\n",
    "        print(\"生成的句子数不足，不能形成完整的藏头诗\")\n",
    "        return \"\"\n",
    "\n",
    "    # 强制保留前 len(start_words) 句作为藏头诗\n",
    "    cangtou_poem = []\n",
    "    for i, head in enumerate(start_words):\n",
    "        line = sentences[i]\n",
    "        if not line.startswith(head):\n",
    "            # 若开头字不是藏头字，强行替换第一字\n",
    "            line = head + line[1:]\n",
    "        cangtou_poem.append(line)\n",
    "\n",
    "    return '\\n'.join(cangtou_poem)\n",
    "\n",
    "print(format_cangtou_poem(results_acrostic,start_words_acrostic))"
   ]
  },
  {
   "cell_type": "code",
   "execution_count": null,
   "metadata": {},
   "outputs": [],
   "source": []
  }
 ],
 "metadata": {
  "kernelspec": {
   "display_name": "Python 3 (ipykernel)",
   "language": "python",
   "name": "python3"
  },
  "language_info": {
   "codemirror_mode": {
    "name": "ipython",
    "version": 3
   },
   "file_extension": ".py",
   "mimetype": "text/x-python",
   "name": "python",
   "nbconvert_exporter": "python",
   "pygments_lexer": "ipython3",
   "version": "3.11.7"
  }
 },
 "nbformat": 4,
 "nbformat_minor": 4
}
